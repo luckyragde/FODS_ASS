{
 "cells": [
  {
   "cell_type": "code",
   "execution_count": 1,
   "id": "82dee66e-99e2-43b0-9c35-1d3ff95269cb",
   "metadata": {},
   "outputs": [],
   "source": [
    "#123B2F153\n",
    "import pandas as pd"
   ]
  },
  {
   "cell_type": "code",
   "execution_count": 2,
   "id": "99a5023f-b5e2-4c2a-8258-b58548799e6b",
   "metadata": {},
   "outputs": [],
   "source": [
    "heart_data = pd.read_csv('C:/123B2F153/DataSets/heart.csv')"
   ]
  },
  {
   "cell_type": "code",
   "execution_count": 3,
   "id": "65b8c28c-d757-4b58-8e72-5bb4e3b94a7d",
   "metadata": {},
   "outputs": [
    {
     "name": "stdout",
     "output_type": "stream",
     "text": [
      "Missing Values:\n",
      " Age               0\n",
      "Sex               0\n",
      "ChestPainType     0\n",
      "RestingBP         0\n",
      "Cholesterol       0\n",
      "FastingBS         0\n",
      "RestingECG        0\n",
      "MaxHR             0\n",
      "ExerciseAngina    0\n",
      "Oldpeak           0\n",
      "ST_Slope          0\n",
      "HeartDisease      0\n",
      "dtype: int64\n"
     ]
    }
   ],
   "source": [
    "missing_values = heart_data.isnull().sum()\n",
    "print(\"Missing Values:\\n\", missing_values)"
   ]
  },
  {
   "cell_type": "code",
   "execution_count": 8,
   "id": "d15b73b8-2907-4a06-83d4-005da7f2af8c",
   "metadata": {},
   "outputs": [],
   "source": [
    "heart_data_cleaned = heart_data.drop_duplicates()"
   ]
  },
  {
   "cell_type": "code",
   "execution_count": 9,
   "id": "22771904-2061-4eb9-9c0c-80370952e6e5",
   "metadata": {},
   "outputs": [
    {
     "name": "stdout",
     "output_type": "stream",
     "text": [
      "\n",
      "After removing age outliers, data count: 918\n"
     ]
    }
   ],
   "source": [
    "\n",
    "heart_data_cleaned = heart_data_cleaned[(heart_data_cleaned['Age'] >= 18) & (heart_data_cleaned['Age'] <= 100)]\n",
    "print(\"\\nAfter removing age outliers, data count:\", heart_data_cleaned.shape[0])"
   ]
  },
  {
   "cell_type": "code",
   "execution_count": 13,
   "id": "6184846a-baef-4e83-bc9c-1c5dc57b7d80",
   "metadata": {},
   "outputs": [
    {
     "name": "stdout",
     "output_type": "stream",
     "text": [
      "\n",
      "Corrected Cholesterol Outliers with Median: 237.0\n"
     ]
    }
   ],
   "source": [
    "cholesterol_median = heart_data_cleaned[(heart_data_cleaned['Cholesterol'] >= 100) & (heart_data_cleaned['Cholesterol'] <= 600)]['Cholesterol'].median()\n",
    "heart_data_cleaned['Cholesterol'] = heart_data_cleaned['Cholesterol'].apply(lambda x: cholesterol_median if x < 100 or x > 600 else x)\n",
    "print(\"\\nCorrected Cholesterol Outliers with Median:\", cholesterol_median)"
   ]
  },
  {
   "cell_type": "code",
   "execution_count": 14,
   "id": "6133bc86-1bb8-4d70-aa5b-1bef329cde62",
   "metadata": {},
   "outputs": [
    {
     "name": "stdout",
     "output_type": "stream",
     "text": [
      "\n",
      "Corrected Resting Blood Pressure Outliers with Median: 130.0\n"
     ]
    }
   ],
   "source": [
    "restingbp_median = heart_data_cleaned[(heart_data_cleaned['RestingBP'] >= 50) & (heart_data_cleaned['RestingBP'] <= 250)]['RestingBP'].median()\n",
    "heart_data_cleaned['RestingBP'] = heart_data_cleaned['RestingBP'].apply(lambda x: restingbp_median if x < 50 or x > 250 else x)\n",
    "print(\"\\nCorrected Resting Blood Pressure Outliers with Median:\", restingbp_median)"
   ]
  },
  {
   "cell_type": "code",
   "execution_count": 16,
   "id": "df02f6eb-8b87-4978-9b30-6d84d53ae999",
   "metadata": {},
   "outputs": [],
   "source": [
    "heart_data_cleaned['Sex'] = heart_data_cleaned['Sex'].str.upper()  \n",
    "heart_data_cleaned['ChestPainType'] = heart_data_cleaned['ChestPainType'].str.upper()\n"
   ]
  },
  {
   "cell_type": "code",
   "execution_count": 17,
   "id": "372f4462-61f8-44c9-9bbf-06e06398793a",
   "metadata": {},
   "outputs": [
    {
     "name": "stdout",
     "output_type": "stream",
     "text": [
      "\n",
      "Invalid entries in 'Sex' column:\n",
      " Empty DataFrame\n",
      "Columns: [Age, Sex, ChestPainType, RestingBP, Cholesterol, FastingBS, RestingECG, MaxHR, ExerciseAngina, Oldpeak, ST_Slope, HeartDisease]\n",
      "Index: []\n"
     ]
    }
   ],
   "source": [
    "valid_sex = ['M', 'F']\n",
    "invalid_sex = heart_data_cleaned[~heart_data_cleaned['Sex'].isin(valid_sex)]\n",
    "print(\"\\nInvalid entries in 'Sex' column:\\n\", invalid_sex)\n",
    "\n"
   ]
  },
  {
   "cell_type": "code",
   "execution_count": 18,
   "id": "723ac725-3b03-44df-aa84-e4f16149e498",
   "metadata": {},
   "outputs": [
    {
     "name": "stdout",
     "output_type": "stream",
     "text": [
      "\n",
      "Invalid entries in 'ChestPainType' column:\n",
      " Empty DataFrame\n",
      "Columns: [Age, Sex, ChestPainType, RestingBP, Cholesterol, FastingBS, RestingECG, MaxHR, ExerciseAngina, Oldpeak, ST_Slope, HeartDisease]\n",
      "Index: []\n"
     ]
    }
   ],
   "source": [
    "\n",
    "valid_chest_pain = ['ATA', 'NAP', 'ASY', 'TA']\n",
    "invalid_chest_pain = heart_data_cleaned[~heart_data_cleaned['ChestPainType'].isin(valid_chest_pain)]\n",
    "print(\"\\nInvalid entries in 'ChestPainType' column:\\n\", invalid_chest_pain)"
   ]
  },
  {
   "cell_type": "code",
   "execution_count": null,
   "id": "7c4320fd-a835-43a0-a308-8b1d6366b068",
   "metadata": {},
   "outputs": [],
   "source": [
    "print(\"\\nCleaned and Corrected Dataset Info:\")\n",
    "heart_data_cleaned.info()"
   ]
  },
  {
   "cell_type": "code",
   "execution_count": 19,
   "id": "4078bb56-a12c-454c-8e4a-c71063e6eb97",
   "metadata": {},
   "outputs": [],
   "source": [
    "heart_data_cleaned['FastingBS'] = heart_data_cleaned['FastingBS'].astype(int)"
   ]
  },
  {
   "cell_type": "code",
   "execution_count": 20,
   "id": "f2ebf508-3a75-4c47-a375-c3a4dee43a43",
   "metadata": {},
   "outputs": [],
   "source": [
    "heart_data_cleaned['HeartDisease'] = heart_data_cleaned['HeartDisease'].astype(int)"
   ]
  },
  {
   "cell_type": "code",
   "execution_count": 21,
   "id": "78f143dc-4313-42cc-84dd-db5704312786",
   "metadata": {},
   "outputs": [
    {
     "name": "stdout",
     "output_type": "stream",
     "text": [
      "\n",
      "Final Cleaned Data Info:\n",
      "<class 'pandas.core.frame.DataFrame'>\n",
      "RangeIndex: 918 entries, 0 to 917\n",
      "Data columns (total 12 columns):\n",
      " #   Column          Non-Null Count  Dtype  \n",
      "---  ------          --------------  -----  \n",
      " 0   Age             918 non-null    int64  \n",
      " 1   Sex             918 non-null    object \n",
      " 2   ChestPainType   918 non-null    object \n",
      " 3   RestingBP       918 non-null    float64\n",
      " 4   Cholesterol     918 non-null    float64\n",
      " 5   FastingBS       918 non-null    int64  \n",
      " 6   RestingECG      918 non-null    object \n",
      " 7   MaxHR           918 non-null    int64  \n",
      " 8   ExerciseAngina  918 non-null    object \n",
      " 9   Oldpeak         918 non-null    float64\n",
      " 10  ST_Slope        918 non-null    object \n",
      " 11  HeartDisease    918 non-null    int64  \n",
      "dtypes: float64(3), int64(4), object(5)\n",
      "memory usage: 86.2+ KB\n"
     ]
    }
   ],
   "source": [
    "print(\"\\nFinal Cleaned Data Info:\")\n",
    "heart_data_cleaned.info()"
   ]
  }
 ],
 "metadata": {
  "kernelspec": {
   "display_name": "Python 3 (ipykernel)",
   "language": "python",
   "name": "python3"
  },
  "language_info": {
   "codemirror_mode": {
    "name": "ipython",
    "version": 3
   },
   "file_extension": ".py",
   "mimetype": "text/x-python",
   "name": "python",
   "nbconvert_exporter": "python",
   "pygments_lexer": "ipython3",
   "version": "3.12.6"
  }
 },
 "nbformat": 4,
 "nbformat_minor": 5
}
